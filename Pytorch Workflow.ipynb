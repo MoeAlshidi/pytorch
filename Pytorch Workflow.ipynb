{
 "cells": [
  {
   "cell_type": "code",
   "execution_count": 1,
   "id": "fec613fc",
   "metadata": {},
   "outputs": [],
   "source": [
    "import torch\n",
    "from torch import nn\n",
    "import matplotlib.pyplot as plt"
   ]
  },
  {
   "cell_type": "markdown",
   "id": "5af7c137",
   "metadata": {},
   "source": [
    "# 1. Data ( Preparing and loading )\n",
    "\n",
    "Data can be almost anything... in machine learning.\n",
    "\n",
    "* Excel spreadsheet\n",
    "* Images of any kind\n",
    "* Videos (Youtube has lots of data..)\n",
    "* DNA\n",
    "* Text\n",
    "\n",
    "Machine leaning is a game of two parts:\n",
    "\n",
    "    1. Get data into numerical representation.\n",
    "    \n",
    "    2. Build a model to learn patterns in that numerical represntation.\n",
    "    \n",
    "To showcase this, let's create some *known* data using linear regression formula.\n",
    "\n",
    "We'll use a linear regression formula to make a stright line with known **parameters**."
   ]
  },
  {
   "cell_type": "code",
   "execution_count": 2,
   "id": "c73255c7",
   "metadata": {},
   "outputs": [
    {
     "data": {
      "text/plain": [
       "(tensor([[0.0000],\n",
       "         [0.0200],\n",
       "         [0.0400],\n",
       "         [0.0600],\n",
       "         [0.0800],\n",
       "         [0.1000],\n",
       "         [0.1200],\n",
       "         [0.1400],\n",
       "         [0.1600],\n",
       "         [0.1800]]),\n",
       " tensor([[0.3000],\n",
       "         [0.3140],\n",
       "         [0.3280],\n",
       "         [0.3420],\n",
       "         [0.3560],\n",
       "         [0.3700],\n",
       "         [0.3840],\n",
       "         [0.3980],\n",
       "         [0.4120],\n",
       "         [0.4260]]))"
      ]
     },
     "execution_count": 2,
     "metadata": {},
     "output_type": "execute_result"
    }
   ],
   "source": [
    "#create *known* parameters\n",
    "weight = 0.7 \n",
    "bias = 0.3\n",
    "\n",
    "# Create \n",
    "start = 0\n",
    "end = 1\n",
    "step = 0.02\n",
    "X = torch.arange(start ,end, step).unsqueeze(dim=1)\n",
    "y = weight * X + bias\n",
    "\n",
    "X[:10], y[:10]\n",
    "\n"
   ]
  },
  {
   "cell_type": "code",
   "execution_count": 3,
   "id": "acfb8d16",
   "metadata": {},
   "outputs": [
    {
     "data": {
      "text/plain": [
       "(50, 50)"
      ]
     },
     "execution_count": 3,
     "metadata": {},
     "output_type": "execute_result"
    }
   ],
   "source": [
    "len(X), len(y)"
   ]
  },
  {
   "cell_type": "markdown",
   "id": "cb2cba97",
   "metadata": {},
   "source": [
    "# Splitting data into training and test sets ( one of the most important concepts in machine learning in general)\n",
    "\n",
    "Let's create a training and test set with our data"
   ]
  },
  {
   "cell_type": "code",
   "execution_count": 4,
   "id": "483495a4",
   "metadata": {},
   "outputs": [
    {
     "data": {
      "text/plain": [
       "(40, 40, 10, 10)"
      ]
     },
     "execution_count": 4,
     "metadata": {},
     "output_type": "execute_result"
    }
   ],
   "source": [
    "#create train/test split\n",
    "train_split = int(0.8 * len(X))\n",
    "X_train, y_train = X[:train_split], y[:train_split]\n",
    "X_test, y_test = X[train_split:], y[train_split:]\n",
    "len(X_train),len(y_train),len(X_test),len(y_test)"
   ]
  },
  {
   "cell_type": "code",
   "execution_count": 5,
   "id": "4b00369b",
   "metadata": {},
   "outputs": [
    {
     "data": {
      "image/png": "[encoded data removed]",
      "text/plain": [
       "<Figure size 1000x700 with 1 Axes>"
      ]
     },
     "metadata": {},
     "output_type": "display_data"
    }
   ],
   "source": [
    "def plot_predictions(train_data=X_train,\n",
    "                    train_labels=y_train,\n",
    "                    test_data=X_test,\n",
    "                    test_labels=y_test,\n",
    "                    predictions=None):\n",
    "    \"\"\"\n",
    "    Plots training data, test data and compares predictions.\n",
    "    \"\"\"\n",
    "    plt.figure(figsize=(10,7))\n",
    "    \n",
    "    #Plot training data in blue\n",
    "    plt.scatter(train_data, train_labels, c=\"b\", s=4, label=\"Training data\")\n",
    "    \n",
    "    #Plot test data in green\n",
    "    plt.scatter(test_data, test_labels, c=\"g\", s=4, label=\"Testing data\")\n",
    "    \n",
    "    #Are there predictions?\n",
    "    \n",
    "    if predictions is not None:\n",
    "        plt.scatter(test_data, predictions, c=\"r\", s=4, label=\"Predictions\")\n",
    "        \n",
    "    #show the lengend\n",
    "    plt.legend(prop={\"size\":14})\n",
    "\n",
    "    \n",
    "plot_predictions()"
   ]
  },
  {
   "cell_type": "markdown",
   "id": "90de6a07",
   "metadata": {},
   "source": [
    "# Building Model\n",
    "\n",
    "Our fitst pytorch model.\n",
    "\n",
    "What our model does:\n",
    "* Starts with random values (weights& bias) \n",
    "* Look at training data and adjust the random values to better\n",
    "represent (or get closer to) the ideal values (the weight & bias values we used to create the data)\n",
    "\n",
    "How does it do so?\n",
    "Through two main algorithms:\n",
    "1. Gradient descent https://www.youtube.com/watch?v=IHZwWFHWa-w\n",
    "2. Backpropagation https://www.youtube.com/watch?v=Ilg3gGewQ5U"
   ]
  },
  {
   "cell_type": "code",
   "execution_count": 6,
   "id": "983508ec",
   "metadata": {},
   "outputs": [],
   "source": [
    "# Create linear regression model class\n",
    "import torch \n",
    "from torch import nn\n",
    "\n",
    "class LinearRegressionModel(nn.Module): # <- nn.Module Base class from all nueral Network\n",
    "    def __init__(self):\n",
    "        super().__init__()\n",
    "        self.weights = nn.Parameter(torch.randn(1,# <- start with a random weight and try to adjust it to the ideal weight.\n",
    "                                               requires_grad=True, # <- can this parameter be updated via gradient descent?\n",
    "                                               dtype=torch.float,# <- Pytorch loves the data type torch.float32\n",
    "                                               ))\n",
    "        \n",
    "        self.bias = nn.Parameter(torch.randn(1,# <- start with a random bias and try to adjust it to the ideal bias.\n",
    "                                               requires_grad=True,# <- can this parameter be updated via gradient descent?\n",
    "                                               dtype=torch.float,# <- Pytorch loves the data type torch.float32\n",
    "                                               ))\n",
    "            \n",
    "    def forward(self, x: torch.Tensor)-> torch.Tensor:\n",
    "        return self.weights * x + self.bias\n",
    "            "
   ]
  },
  {
   "cell_type": "markdown",
   "id": "467a2d74",
   "metadata": {},
   "source": [
    "https://pytorch.org/tutorials/beginner/ptcheat.html"
   ]
  },
  {
   "cell_type": "markdown",
   "id": "6b169374",
   "metadata": {},
   "source": [
    "# Checking the contents of our Pytorch model\n",
    "\n",
    "Now we've created a model, let's see what's inside..\n",
    "\n",
    "So we can check out model parameters or what's inside our model using `.parametrs()`"
   ]
  },
  {
   "cell_type": "code",
   "execution_count": 7,
   "id": "75fc3c13",
   "metadata": {},
   "outputs": [
    {
     "data": {
      "text/plain": [
       "[Parameter containing:\n",
       " tensor([0.3367], requires_grad=True),\n",
       " Parameter containing:\n",
       " tensor([0.1288], requires_grad=True)]"
      ]
     },
     "execution_count": 7,
     "metadata": {},
     "output_type": "execute_result"
    }
   ],
   "source": [
    "#create a random seed\n",
    "torch.manual_seed(42)\n",
    "\n",
    "#create an instance of our model\n",
    "model_0 = LinearRegressionModel()\n",
    "\n",
    "#check out the parameters\n",
    "list(model_0.parameters())"
   ]
  },
  {
   "cell_type": "code",
   "execution_count": 8,
   "id": "110f47d5",
   "metadata": {},
   "outputs": [
    {
     "data": {
      "text/plain": [
       "OrderedDict([('weights', tensor([0.3367])), ('bias', tensor([0.1288]))])"
      ]
     },
     "execution_count": 8,
     "metadata": {},
     "output_type": "execute_result"
    }
   ],
   "source": [
    "# List named parameters\n",
    "model_0.state_dict()"
   ]
  },
  {
   "cell_type": "markdown",
   "id": "238f72aa",
   "metadata": {},
   "source": [
    "# Making prediction using `torch.inference_mode()`\n",
    "\n",
    "To check our model's predictive power, let's see hoe well it predicts `y_test` based on `X_test`.\n",
    "\n",
    "When we pass data through our model, it's going to run it through the `forward()` method."
   ]
  },
  {
   "cell_type": "code",
   "execution_count": 9,
   "id": "3ee4d334",
   "metadata": {},
   "outputs": [
    {
     "data": {
      "text/plain": [
       "tensor([[0.3982],\n",
       "        [0.4049],\n",
       "        [0.4116],\n",
       "        [0.4184],\n",
       "        [0.4251],\n",
       "        [0.4318],\n",
       "        [0.4386],\n",
       "        [0.4453],\n",
       "        [0.4520],\n",
       "        [0.4588]])"
      ]
     },
     "execution_count": 9,
     "metadata": {},
     "output_type": "execute_result"
    }
   ],
   "source": [
    "#Make predictions with model\n",
    "#For more info https://twitter.com/PyTorch/status/1437838231505096708?lang=en\n",
    "\n",
    "with torch.inference_mode():# another word of predictions is inference.(disable gradient)\n",
    "    y_preds = model_0(X_test)\n",
    "\n",
    "    \n",
    "# #Your also can do it with `no_grad()` \n",
    "# with torch.no_grad():\n",
    "#     y_preds = model_0(X_test)\n",
    "    \n",
    "y_preds"
   ]
  },
  {
   "cell_type": "code",
   "execution_count": 10,
   "id": "1ead3eed",
   "metadata": {},
   "outputs": [
    {
     "data": {
      "text/plain": [
       "tensor([[0.8600],\n",
       "        [0.8740],\n",
       "        [0.8880],\n",
       "        [0.9020],\n",
       "        [0.9160],\n",
       "        [0.9300],\n",
       "        [0.9440],\n",
       "        [0.9580],\n",
       "        [0.9720],\n",
       "        [0.9860]])"
      ]
     },
     "execution_count": 10,
     "metadata": {},
     "output_type": "execute_result"
    }
   ],
   "source": [
    "y_test"
   ]
  },
  {
   "cell_type": "code",
   "execution_count": 11,
   "id": "bf27f590",
   "metadata": {},
   "outputs": [
    {
     "data": {
      "image/png": "[encoded data removed]",
      "text/plain": [
       "<Figure size 1000x700 with 1 Axes>"
      ]
     },
     "metadata": {},
     "output_type": "display_data"
    }
   ],
   "source": [
    "plot_predictions(predictions=y_preds)"
   ]
  },
  {
   "cell_type": "markdown",
   "id": "1aa680fc",
   "metadata": {},
   "source": [
    "# 3. Training model\n",
    "\n",
    "The whole idea of training is for a model to move from some **unknown** parameters (these may be random) to some **known** parameters.\n",
    "\n",
    "Or in other words from a poor represntaion of the data to a better represnetation of the data.\n",
    "\n",
    "One way to measure how poor or how wrong your models predictions are; is to use `loss function`.\n",
    "\n",
    "* Note: Loss function may also be called cost function or criterion in different areas. For our case, we 're going to refer to it as a loss function.\n",
    "\n",
    "Things we need to train:\n",
    "\n",
    "* **Loss function:** A function to measure how wrong your model's predictions are to the ideal outputs. lower is better.\n",
    "\n",
    "* **Optimizer:** Takes into account the loss of a model and adjusts the model's parameters (eg. weight & bias in our case) to improve the loss function. \n",
    "\n",
    "And specifically for Pytorch, we need:\n",
    "* A training loop\n",
    "* A testing loop"
   ]
  },
  {
   "cell_type": "code",
   "execution_count": 12,
   "id": "fdb3a172",
   "metadata": {},
   "outputs": [
    {
     "data": {
      "text/plain": [
       "[Parameter containing:\n",
       " tensor([0.3367], requires_grad=True),\n",
       " Parameter containing:\n",
       " tensor([0.1288], requires_grad=True)]"
      ]
     },
     "execution_count": 12,
     "metadata": {},
     "output_type": "execute_result"
    }
   ],
   "source": [
    "list(model_0.parameters())"
   ]
  },
  {
   "cell_type": "code",
   "execution_count": 13,
   "id": "7f1f1c43",
   "metadata": {},
   "outputs": [
    {
     "data": {
      "text/plain": [
       "OrderedDict([('weights', tensor([0.3367])), ('bias', tensor([0.1288]))])"
      ]
     },
     "execution_count": 13,
     "metadata": {},
     "output_type": "execute_result"
    }
   ],
   "source": [
    "model_0.state_dict()"
   ]
  },
  {
   "cell_type": "code",
   "execution_count": 14,
   "id": "8b5fed32",
   "metadata": {},
   "outputs": [],
   "source": [
    "#Setup a loss function\n",
    "loss_fn = nn.L1Loss()\n",
    "\n",
    "# Setup an optimizer (stochastic gradient descent)\n",
    "optimizer = torch.optim.SGD(params=model_0.parameters(),\n",
    "                        lr=0.001) #lr = Learning rate = possibly the most importat hyperparameter."
   ]
  },
  {
   "cell_type": "markdown",
   "id": "2b399f8f",
   "metadata": {},
   "source": [
    "# Building a training loop ( and a testing loop ) in PyTorch\n",
    "\n",
    "A couple of things we need in a training loop:\n",
    "0. Loop through the data\n",
    "1. Forward pass (this involves data moving through our model's `forward()` functions) to make predictions on data - also called fowrard propagation.\n",
    "2. Calculate the loss (compare forward pass predictions to ground truth labels)\n",
    "3. Optimizer zero grad\n",
    "4. Loss backward - move backwards through the network to calculate the gradients of each of the parameters of our model with respect to the loss (**backpropagation**)\n",
    "5. Optimizer step - use the optimizer to adjust our model's parameters to try and improve the loss (**gradient descent**)\n"
   ]
  },
  {
   "cell_type": "code",
   "execution_count": 15,
   "id": "57f2ce11",
   "metadata": {},
   "outputs": [],
   "source": [
    "torch.manual_seed(42)\n",
    "# An epoch is one loop through the data...( this is a hyperparameter because we set it ourselves)\n",
    "epochs = 1000\n",
    "### TRAINING\n",
    "\n",
    "#0. Loop through the data.\n",
    "for epochs in range(epochs):\n",
    "    # Set the model to training mode.\n",
    "    model_0.train() # train mode in pytorch sets all the parameters that require gradients to require gradients\n",
    "    \n",
    "    # 1. Forward pass\n",
    "    y_pred = model_0(X_train)\n",
    "    \n",
    "    # 2. Calculate the loss\n",
    "    loss = loss_fn(y_pred, y_train)\n",
    "    \n",
    "    # 3. Optimizer zero grad\n",
    "    optimizer.zero_grad()\n",
    "    \n",
    "    # 4. Perform backpropagation on the loss with respect to the parameters of the model\n",
    "    loss.backward()\n",
    "    \n",
    "    #5. Step the optimizer (perfrom gradient descent)\n",
    "    optimizer.step() #by defaukt how the optimizer changes will acculumate the loop so... we have to zero them abouve in step 3 for the next iteration of the loop.\n",
    "    \n",
    "    #6. Testing \n",
    "    model_0.eval() #Turns off different settings in the model not needed for evaluation/testing (dropout/ batchNorm)\n",
    "    with torch.inference_mode(): #turns off gradient tracking & couple more things behind the scenes\n",
    "        #1 . do the forward pass.\n",
    "        test_pred = model_0(X_test)\n",
    "        \n",
    "        #2. Calcluate the loss\n",
    "        test_loss = loss_fn(test_pred, y_test)\n",
    "        \n"
   ]
  },
  {
   "cell_type": "code",
   "execution_count": 16,
   "id": "7fcc7601",
   "metadata": {},
   "outputs": [
    {
     "data": {
      "text/plain": [
       "OrderedDict([('weights', tensor([0.5788])), ('bias', tensor([0.3509]))])"
      ]
     },
     "execution_count": 16,
     "metadata": {},
     "output_type": "execute_result"
    }
   ],
   "source": [
    "model_0.state_dict()"
   ]
  },
  {
   "cell_type": "code",
   "execution_count": 17,
   "id": "82c1dfd0",
   "metadata": {},
   "outputs": [],
   "source": [
    "with torch.inference_mode():\n",
    "    y_preds_new = model_0(X_test)\n"
   ]
  },
  {
   "cell_type": "code",
   "execution_count": 18,
   "id": "a7bcd1d8",
   "metadata": {},
   "outputs": [
    {
     "data": {
      "image/png": "[encoded data removed]",
      "text/plain": [
       "<Figure size 1000x700 with 1 Axes>"
      ]
     },
     "metadata": {},
     "output_type": "display_data"
    }
   ],
   "source": [
    "plot_predictions(predictions=y_preds_new)"
   ]
  },
  {
   "cell_type": "code",
   "execution_count": 19,
   "id": "69816783",
   "metadata": {},
   "outputs": [
    {
     "data": {
      "text/plain": [
       "OrderedDict([('weights', tensor([0.5788])), ('bias', tensor([0.3509]))])"
      ]
     },
     "execution_count": 19,
     "metadata": {},
     "output_type": "execute_result"
    }
   ],
   "source": [
    "model_0.state_dict()"
   ]
  },
  {
   "cell_type": "code",
   "execution_count": 20,
   "id": "84168ba4",
   "metadata": {},
   "outputs": [
    {
     "data": {
      "text/plain": [
       "(0.7, 0.3)"
      ]
     },
     "execution_count": 20,
     "metadata": {},
     "output_type": "execute_result"
    }
   ],
   "source": [
    "weight, bias"
   ]
  },
  {
   "cell_type": "markdown",
   "id": "17f0119a",
   "metadata": {},
   "source": [
    "# Saving a model in PyTorch\n",
    "\n",
    "There are three main methods you should about for saving and loading in Pytorch.\n",
    "\n",
    "1. `torch.save()` - allows you to save a PyTorch object in Python's pickle format.\n",
    "2. `torch.load()` - allows you to load PyTorch object."
   ]
  },
  {
   "cell_type": "code",
   "execution_count": 23,
   "id": "b3f9b6c3",
   "metadata": {},
   "outputs": [],
   "source": [
    "# Saving the model.\n",
    "from pathlib import Path\n",
    "\n",
    "# 1. Create a models directory\n",
    "MODEL_PATH= Path(\"models\")\n",
    "MODEL_PATH.mkdir(parents= True, exist_ok=True)\n",
    "\n",
    "# 2. Create model save path\n",
    "MODEL_NAME = \"01_pytorch_workflow_model_0.pth\"\n",
    "MODEL_SAVE_PATH = MODEL_PATH / MODEL_NAME\n",
    "torch.save(model_0.state_dict(), MODEL_SAVE_PATH)"
   ]
  },
  {
   "cell_type": "code",
   "execution_count": 3,
   "id": "dc6db8a9",
   "metadata": {},
   "outputs": [
    {
     "data": {
      "text/plain": [
       "OrderedDict([('weights', tensor([0.5788])), ('bias', tensor([0.3509]))])"
      ]
     },
     "execution_count": 3,
     "metadata": {},
     "output_type": "execute_result"
    }
   ],
   "source": [
    "torch.load(\"models/01_pytorch_workflow_model_0.pth\")"
   ]
  },
  {
   "cell_type": "code",
   "execution_count": 4,
   "id": "3256f999",
   "metadata": {},
   "outputs": [
    {
     "ename": "TypeError",
     "evalue": "Module.load_state_dict() missing 2 required positional arguments: 'self' and 'state_dict'",
     "output_type": "error",
     "traceback": [
      "\u001b[1;31m---------------------------------------------------------------------------\u001b[0m",
      "\u001b[1;31mTypeError\u001b[0m                                 Traceback (most recent call last)",
      "Cell \u001b[1;32mIn[4], line 1\u001b[0m\n\u001b[1;32m----> 1\u001b[0m \u001b[43mtorch\u001b[49m\u001b[38;5;241;43m.\u001b[39;49m\u001b[43mnn\u001b[49m\u001b[38;5;241;43m.\u001b[39;49m\u001b[43mModule\u001b[49m\u001b[38;5;241;43m.\u001b[39;49m\u001b[43mload_state_dict\u001b[49m\u001b[43m(\u001b[49m\u001b[43m)\u001b[49m\n",
      "\u001b[1;31mTypeError\u001b[0m: Module.load_state_dict() missing 2 required positional arguments: 'self' and 'state_dict'"
     ]
    }
   ],
   "source": []
  },
  {
   "cell_type": "code",
   "execution_count": null,
   "id": "4a672d53",
   "metadata": {},
   "outputs": [],
   "source": []
  }
 ],
 "metadata": {
  "kernelspec": {
   "display_name": "Python 3 (ipykernel)",
   "language": "python",
   "name": "python3"
  },
  "language_info": {
   "codemirror_mode": {
    "name": "ipython",
    "version": 3
   },
   "file_extension": ".py",
   "mimetype": "text/x-python",
   "name": "python",
   "nbconvert_exporter": "python",
   "pygments_lexer": "ipython3",
   "version": "3.9.6"
  }
 },
 "nbformat": 4,
 "nbformat_minor": 5
}
